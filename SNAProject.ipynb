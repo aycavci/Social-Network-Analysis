{
 "cells": [
  {
   "cell_type": "markdown",
   "id": "5c231df3",
   "metadata": {},
   "source": [
    "# Social Network Analysis"
   ]
  },
  {
   "cell_type": "markdown",
   "id": "7b624cda",
   "metadata": {},
   "source": [
    "## Installing Dependencies"
   ]
  },
  {
   "cell_type": "code",
   "execution_count": 4,
   "id": "a688f7bb",
   "metadata": {},
   "outputs": [
    {
     "name": "stdout",
     "output_type": "stream",
     "text": [
      "Defaulting to user installation because normal site-packages is not writeable\n",
      "Requirement already satisfied: contourpy==1.0.5 in /Users/robert/Library/Python/3.9/lib/python/site-packages (from -r requirements.txt (line 1)) (1.0.5)\n",
      "Requirement already satisfied: cycler==0.11.0 in /Users/robert/Library/Python/3.9/lib/python/site-packages (from -r requirements.txt (line 2)) (0.11.0)\n",
      "Requirement already satisfied: fonttools==4.37.4 in /Users/robert/Library/Python/3.9/lib/python/site-packages (from -r requirements.txt (line 3)) (4.37.4)\n",
      "Requirement already satisfied: kiwisolver==1.4.4 in /Users/robert/Library/Python/3.9/lib/python/site-packages (from -r requirements.txt (line 4)) (1.4.4)\n",
      "Collecting matplotlib==3.6.1\n",
      "  Using cached matplotlib-3.6.1-cp39-cp39-macosx_11_0_arm64.whl (7.2 MB)\n",
      "Collecting networkx==2.8.7\n",
      "  Using cached networkx-2.8.7-py3-none-any.whl (2.0 MB)\n",
      "Collecting numpy==1.23.4\n",
      "  Using cached numpy-1.23.4-cp39-cp39-macosx_11_0_arm64.whl (13.4 MB)\n",
      "Requirement already satisfied: packaging==21.3 in /Users/robert/Library/Python/3.9/lib/python/site-packages (from -r requirements.txt (line 8)) (21.3)\n",
      "Requirement already satisfied: Pillow==9.2.0 in /Users/robert/Library/Python/3.9/lib/python/site-packages (from -r requirements.txt (line 9)) (9.2.0)\n",
      "Requirement already satisfied: pyparsing==3.0.9 in /Users/robert/Library/Python/3.9/lib/python/site-packages (from -r requirements.txt (line 10)) (3.0.9)\n",
      "Requirement already satisfied: python-dateutil==2.8.2 in /Users/robert/Library/Python/3.9/lib/python/site-packages (from -r requirements.txt (line 11)) (2.8.2)\n",
      "Collecting six==1.16.0\n",
      "  Using cached six-1.16.0-py2.py3-none-any.whl (11 kB)\n",
      "Installing collected packages: six, numpy, networkx, matplotlib\n",
      "  Attempting uninstall: numpy\n",
      "    Found existing installation: numpy 1.23.3\n",
      "    Uninstalling numpy-1.23.3:\n",
      "      Successfully uninstalled numpy-1.23.3\n",
      "\u001b[33m  WARNING: The scripts f2py, f2py3 and f2py3.9 are installed in '/Users/robert/Library/Python/3.9/bin' which is not on PATH.\n",
      "  Consider adding this directory to PATH or, if you prefer to suppress this warning, use --no-warn-script-location.\n",
      "  NOTE: The current PATH contains path(s) starting with `~`, which may not be expanded by all applications.\u001b[0m\n",
      "  Attempting uninstall: matplotlib\n",
      "    Found existing installation: matplotlib 3.6.0\n",
      "    Uninstalling matplotlib-3.6.0:\n",
      "      Successfully uninstalled matplotlib-3.6.0\n",
      "Successfully installed matplotlib-3.6.1 networkx-2.8.7 numpy-1.23.4 six-1.16.0\n",
      "\u001b[33mWARNING: You are using pip version 21.2.4; however, version 22.2.2 is available.\n",
      "You should consider upgrading via the '/Library/Developer/CommandLineTools/usr/bin/python3 -m pip install --upgrade pip' command.\u001b[0m\n"
     ]
    }
   ],
   "source": [
    "!python3 -m pip install -r requirements.txt"
   ]
  },
  {
   "cell_type": "code",
   "execution_count": 5,
   "id": "91a5996e",
   "metadata": {},
   "outputs": [],
   "source": [
    "import numpy as np\n",
    "import networkx as nx\n",
    "import matplotlib.pyplot as plt"
   ]
  },
  {
   "cell_type": "markdown",
   "id": "c4b357ee",
   "metadata": {},
   "source": [
    "## Data Preprocessing"
   ]
  },
  {
   "cell_type": "code",
   "execution_count": null,
   "id": "617dc69e",
   "metadata": {},
   "outputs": [],
   "source": []
  }
 ],
 "metadata": {
  "kernelspec": {
   "display_name": "Python 3 (ipykernel)",
   "language": "python",
   "name": "python3"
  },
  "language_info": {
   "codemirror_mode": {
    "name": "ipython",
    "version": 3
   },
   "file_extension": ".py",
   "mimetype": "text/x-python",
   "name": "python",
   "nbconvert_exporter": "python",
   "pygments_lexer": "ipython3",
   "version": "3.9.6"
  }
 },
 "nbformat": 4,
 "nbformat_minor": 5
}
